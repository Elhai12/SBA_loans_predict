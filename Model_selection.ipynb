{
  "nbformat": 4,
  "nbformat_minor": 0,
  "metadata": {
    "colab": {
      "provenance": [],
      "authorship_tag": "ABX9TyOsZvbbiEPC92k6NbiuR1Dp",
      "include_colab_link": true
    },
    "kernelspec": {
      "name": "python3",
      "display_name": "Python 3"
    },
    "language_info": {
      "name": "python"
    }
  },
  "cells": [
    {
      "cell_type": "markdown",
      "metadata": {
        "id": "view-in-github",
        "colab_type": "text"
      },
      "source": [
        "<a href=\"https://colab.research.google.com/github/Elhai12/SBA_loans_predict/blob/main/Model_selection.ipynb\" target=\"_parent\"><img src=\"https://colab.research.google.com/assets/colab-badge.svg\" alt=\"Open In Colab\"/></a>"
      ]
    },
    {
      "cell_type": "code",
      "source": [
        "#Clone git to get the files\n",
        "!git clone https://github.com/Elhai12/SBA_loans_predict.git"
      ],
      "metadata": {
        "colab": {
          "base_uri": "https://localhost:8080/"
        },
        "id": "jj9snuLSQWjD",
        "outputId": "c2716008-49a5-4902-af43-aa1e2f70119e"
      },
      "execution_count": 1,
      "outputs": [
        {
          "output_type": "stream",
          "name": "stdout",
          "text": [
            "Cloning into 'SBA_loans_predict'...\n",
            "remote: Enumerating objects: 191, done.\u001b[K\n",
            "remote: Counting objects: 100% (78/78), done.\u001b[K\n",
            "remote: Compressing objects: 100% (54/54), done.\u001b[K\n",
            "remote: Total 191 (delta 58), reused 24 (delta 24), pack-reused 113 (from 1)\u001b[K\n",
            "Receiving objects: 100% (191/191), 32.24 MiB | 14.97 MiB/s, done.\n",
            "Resolving deltas: 100% (89/89), done.\n"
          ]
        }
      ]
    },
    {
      "cell_type": "code",
      "source": [
        "import pandas as pd\n",
        "import numpy as np\n",
        "import seaborn as sns\n",
        "import matplotlib.pyplot as plt\n",
        "import warnings\n",
        "import re\n",
        "warnings.filterwarnings('ignore')\n",
        "import time\n",
        "from plotly.subplots import make_subplots\n",
        "import plotly.express as px\n",
        "import plotly.subplots as sp\n",
        "from scipy.stats import mannwhitneyu,chisquare,chi2_contingency\n",
        "import plotly.express as px\n",
        "from SBA_loans_predict import Functions_for_EDA\n",
        "from sklearn.preprocessing import OneHotEncoder,LabelEncoder\n",
        "from scipy.stats import ttest_ind\n",
        "from scipy.stats import chi2_contingency\n",
        "from sklearn.linear_model import Lasso, Ridge\n",
        "from sklearn.svm import LinearSVC\n",
        "from sklearn.ensemble import GradientBoostingClassifier, RandomForestClassifier\n",
        "from sklearn.linear_model import LogisticRegression\n",
        "import xgboost as xgb\n",
        "from sklearn.metrics import f1_score,roc_auc_score,r2_score,accuracy_score,confusion_matrix,classification_report,ConfusionMatrixDisplay\n",
        "from sklearn.model_selection import train_test_split"
      ],
      "metadata": {
        "id": "0vudj3kybpSc"
      },
      "execution_count": 8,
      "outputs": []
    },
    {
      "cell_type": "code",
      "source": [
        "df_for_models = pd.read_pickle('/content/SBA_loans_predict/data_files/data_after_feat_eng.pkl')"
      ],
      "metadata": {
        "id": "1ZCJFOqDQUWz"
      },
      "execution_count": 3,
      "outputs": []
    },
    {
      "cell_type": "code",
      "source": [
        "#Create function for show the performance of the models\n",
        "def performance_model(y,y_pred):\n",
        "  auc = roc_auc_score(y,y_pred)\n",
        "  print(f'AUC: {auc}')\n",
        "  f1 = f1_score(y,y_pred)\n",
        "  print(f'F1 Score: {f1}')\n",
        "  accuracy = accuracy_score(y,y_pred)\n",
        "  print(f'Accuracy: {accuracy}')\n",
        "  report = classification_report(y,y_pred)\n",
        "  print(report)\n",
        "\n",
        "  conf_matrix = confusion_matrix(y,y_pred)\n",
        "  cm_display = ConfusionMatrixDisplay(confusion_matrix = conf_matrix, display_labels = [1,0])\n",
        "  cm_display.plot()\n",
        "  plt.show()\n",
        "  return auc,f1,accuracy\n",
        "\n",
        ""
      ],
      "metadata": {
        "id": "l0H8q7O5QvS7"
      },
      "execution_count": 11,
      "outputs": []
    },
    {
      "cell_type": "code",
      "source": [
        "#Check Imbalanced\n",
        "df_counts = pd.DataFrame(df_for_models['MIS_Status'].value_counts())\n",
        "df_counts['prc'] = round(df_counts['count']/df_counts['count'].sum(),3)\n",
        "df_counts"
      ],
      "metadata": {
        "colab": {
          "base_uri": "https://localhost:8080/",
          "height": 143
        },
        "id": "Jo7HspZtVsbQ",
        "outputId": "9715ad92-2498-4de7-fcf5-aa839e837bb9"
      },
      "execution_count": 5,
      "outputs": [
        {
          "output_type": "execute_result",
          "data": {
            "text/plain": [
              "            count    prc\n",
              "MIS_Status              \n",
              "1           29938  0.726\n",
              "0           11274  0.274"
            ],
            "text/html": [
              "\n",
              "  <div id=\"df-c9f87753-8481-47ae-9e6c-5311f6d645e0\" class=\"colab-df-container\">\n",
              "    <div>\n",
              "<style scoped>\n",
              "    .dataframe tbody tr th:only-of-type {\n",
              "        vertical-align: middle;\n",
              "    }\n",
              "\n",
              "    .dataframe tbody tr th {\n",
              "        vertical-align: top;\n",
              "    }\n",
              "\n",
              "    .dataframe thead th {\n",
              "        text-align: right;\n",
              "    }\n",
              "</style>\n",
              "<table border=\"1\" class=\"dataframe\">\n",
              "  <thead>\n",
              "    <tr style=\"text-align: right;\">\n",
              "      <th></th>\n",
              "      <th>count</th>\n",
              "      <th>prc</th>\n",
              "    </tr>\n",
              "    <tr>\n",
              "      <th>MIS_Status</th>\n",
              "      <th></th>\n",
              "      <th></th>\n",
              "    </tr>\n",
              "  </thead>\n",
              "  <tbody>\n",
              "    <tr>\n",
              "      <th>1</th>\n",
              "      <td>29938</td>\n",
              "      <td>0.726</td>\n",
              "    </tr>\n",
              "    <tr>\n",
              "      <th>0</th>\n",
              "      <td>11274</td>\n",
              "      <td>0.274</td>\n",
              "    </tr>\n",
              "  </tbody>\n",
              "</table>\n",
              "</div>\n",
              "    <div class=\"colab-df-buttons\">\n",
              "\n",
              "  <div class=\"colab-df-container\">\n",
              "    <button class=\"colab-df-convert\" onclick=\"convertToInteractive('df-c9f87753-8481-47ae-9e6c-5311f6d645e0')\"\n",
              "            title=\"Convert this dataframe to an interactive table.\"\n",
              "            style=\"display:none;\">\n",
              "\n",
              "  <svg xmlns=\"http://www.w3.org/2000/svg\" height=\"24px\" viewBox=\"0 -960 960 960\">\n",
              "    <path d=\"M120-120v-720h720v720H120Zm60-500h600v-160H180v160Zm220 220h160v-160H400v160Zm0 220h160v-160H400v160ZM180-400h160v-160H180v160Zm440 0h160v-160H620v160ZM180-180h160v-160H180v160Zm440 0h160v-160H620v160Z\"/>\n",
              "  </svg>\n",
              "    </button>\n",
              "\n",
              "  <style>\n",
              "    .colab-df-container {\n",
              "      display:flex;\n",
              "      gap: 12px;\n",
              "    }\n",
              "\n",
              "    .colab-df-convert {\n",
              "      background-color: #E8F0FE;\n",
              "      border: none;\n",
              "      border-radius: 50%;\n",
              "      cursor: pointer;\n",
              "      display: none;\n",
              "      fill: #1967D2;\n",
              "      height: 32px;\n",
              "      padding: 0 0 0 0;\n",
              "      width: 32px;\n",
              "    }\n",
              "\n",
              "    .colab-df-convert:hover {\n",
              "      background-color: #E2EBFA;\n",
              "      box-shadow: 0px 1px 2px rgba(60, 64, 67, 0.3), 0px 1px 3px 1px rgba(60, 64, 67, 0.15);\n",
              "      fill: #174EA6;\n",
              "    }\n",
              "\n",
              "    .colab-df-buttons div {\n",
              "      margin-bottom: 4px;\n",
              "    }\n",
              "\n",
              "    [theme=dark] .colab-df-convert {\n",
              "      background-color: #3B4455;\n",
              "      fill: #D2E3FC;\n",
              "    }\n",
              "\n",
              "    [theme=dark] .colab-df-convert:hover {\n",
              "      background-color: #434B5C;\n",
              "      box-shadow: 0px 1px 3px 1px rgba(0, 0, 0, 0.15);\n",
              "      filter: drop-shadow(0px 1px 2px rgba(0, 0, 0, 0.3));\n",
              "      fill: #FFFFFF;\n",
              "    }\n",
              "  </style>\n",
              "\n",
              "    <script>\n",
              "      const buttonEl =\n",
              "        document.querySelector('#df-c9f87753-8481-47ae-9e6c-5311f6d645e0 button.colab-df-convert');\n",
              "      buttonEl.style.display =\n",
              "        google.colab.kernel.accessAllowed ? 'block' : 'none';\n",
              "\n",
              "      async function convertToInteractive(key) {\n",
              "        const element = document.querySelector('#df-c9f87753-8481-47ae-9e6c-5311f6d645e0');\n",
              "        const dataTable =\n",
              "          await google.colab.kernel.invokeFunction('convertToInteractive',\n",
              "                                                    [key], {});\n",
              "        if (!dataTable) return;\n",
              "\n",
              "        const docLinkHtml = 'Like what you see? Visit the ' +\n",
              "          '<a target=\"_blank\" href=https://colab.research.google.com/notebooks/data_table.ipynb>data table notebook</a>'\n",
              "          + ' to learn more about interactive tables.';\n",
              "        element.innerHTML = '';\n",
              "        dataTable['output_type'] = 'display_data';\n",
              "        await google.colab.output.renderOutput(dataTable, element);\n",
              "        const docLink = document.createElement('div');\n",
              "        docLink.innerHTML = docLinkHtml;\n",
              "        element.appendChild(docLink);\n",
              "      }\n",
              "    </script>\n",
              "  </div>\n",
              "\n",
              "\n",
              "<div id=\"df-92f5d3bc-9347-4b60-84fb-45458a35030b\">\n",
              "  <button class=\"colab-df-quickchart\" onclick=\"quickchart('df-92f5d3bc-9347-4b60-84fb-45458a35030b')\"\n",
              "            title=\"Suggest charts\"\n",
              "            style=\"display:none;\">\n",
              "\n",
              "<svg xmlns=\"http://www.w3.org/2000/svg\" height=\"24px\"viewBox=\"0 0 24 24\"\n",
              "     width=\"24px\">\n",
              "    <g>\n",
              "        <path d=\"M19 3H5c-1.1 0-2 .9-2 2v14c0 1.1.9 2 2 2h14c1.1 0 2-.9 2-2V5c0-1.1-.9-2-2-2zM9 17H7v-7h2v7zm4 0h-2V7h2v10zm4 0h-2v-4h2v4z\"/>\n",
              "    </g>\n",
              "</svg>\n",
              "  </button>\n",
              "\n",
              "<style>\n",
              "  .colab-df-quickchart {\n",
              "      --bg-color: #E8F0FE;\n",
              "      --fill-color: #1967D2;\n",
              "      --hover-bg-color: #E2EBFA;\n",
              "      --hover-fill-color: #174EA6;\n",
              "      --disabled-fill-color: #AAA;\n",
              "      --disabled-bg-color: #DDD;\n",
              "  }\n",
              "\n",
              "  [theme=dark] .colab-df-quickchart {\n",
              "      --bg-color: #3B4455;\n",
              "      --fill-color: #D2E3FC;\n",
              "      --hover-bg-color: #434B5C;\n",
              "      --hover-fill-color: #FFFFFF;\n",
              "      --disabled-bg-color: #3B4455;\n",
              "      --disabled-fill-color: #666;\n",
              "  }\n",
              "\n",
              "  .colab-df-quickchart {\n",
              "    background-color: var(--bg-color);\n",
              "    border: none;\n",
              "    border-radius: 50%;\n",
              "    cursor: pointer;\n",
              "    display: none;\n",
              "    fill: var(--fill-color);\n",
              "    height: 32px;\n",
              "    padding: 0;\n",
              "    width: 32px;\n",
              "  }\n",
              "\n",
              "  .colab-df-quickchart:hover {\n",
              "    background-color: var(--hover-bg-color);\n",
              "    box-shadow: 0 1px 2px rgba(60, 64, 67, 0.3), 0 1px 3px 1px rgba(60, 64, 67, 0.15);\n",
              "    fill: var(--button-hover-fill-color);\n",
              "  }\n",
              "\n",
              "  .colab-df-quickchart-complete:disabled,\n",
              "  .colab-df-quickchart-complete:disabled:hover {\n",
              "    background-color: var(--disabled-bg-color);\n",
              "    fill: var(--disabled-fill-color);\n",
              "    box-shadow: none;\n",
              "  }\n",
              "\n",
              "  .colab-df-spinner {\n",
              "    border: 2px solid var(--fill-color);\n",
              "    border-color: transparent;\n",
              "    border-bottom-color: var(--fill-color);\n",
              "    animation:\n",
              "      spin 1s steps(1) infinite;\n",
              "  }\n",
              "\n",
              "  @keyframes spin {\n",
              "    0% {\n",
              "      border-color: transparent;\n",
              "      border-bottom-color: var(--fill-color);\n",
              "      border-left-color: var(--fill-color);\n",
              "    }\n",
              "    20% {\n",
              "      border-color: transparent;\n",
              "      border-left-color: var(--fill-color);\n",
              "      border-top-color: var(--fill-color);\n",
              "    }\n",
              "    30% {\n",
              "      border-color: transparent;\n",
              "      border-left-color: var(--fill-color);\n",
              "      border-top-color: var(--fill-color);\n",
              "      border-right-color: var(--fill-color);\n",
              "    }\n",
              "    40% {\n",
              "      border-color: transparent;\n",
              "      border-right-color: var(--fill-color);\n",
              "      border-top-color: var(--fill-color);\n",
              "    }\n",
              "    60% {\n",
              "      border-color: transparent;\n",
              "      border-right-color: var(--fill-color);\n",
              "    }\n",
              "    80% {\n",
              "      border-color: transparent;\n",
              "      border-right-color: var(--fill-color);\n",
              "      border-bottom-color: var(--fill-color);\n",
              "    }\n",
              "    90% {\n",
              "      border-color: transparent;\n",
              "      border-bottom-color: var(--fill-color);\n",
              "    }\n",
              "  }\n",
              "</style>\n",
              "\n",
              "  <script>\n",
              "    async function quickchart(key) {\n",
              "      const quickchartButtonEl =\n",
              "        document.querySelector('#' + key + ' button');\n",
              "      quickchartButtonEl.disabled = true;  // To prevent multiple clicks.\n",
              "      quickchartButtonEl.classList.add('colab-df-spinner');\n",
              "      try {\n",
              "        const charts = await google.colab.kernel.invokeFunction(\n",
              "            'suggestCharts', [key], {});\n",
              "      } catch (error) {\n",
              "        console.error('Error during call to suggestCharts:', error);\n",
              "      }\n",
              "      quickchartButtonEl.classList.remove('colab-df-spinner');\n",
              "      quickchartButtonEl.classList.add('colab-df-quickchart-complete');\n",
              "    }\n",
              "    (() => {\n",
              "      let quickchartButtonEl =\n",
              "        document.querySelector('#df-92f5d3bc-9347-4b60-84fb-45458a35030b button');\n",
              "      quickchartButtonEl.style.display =\n",
              "        google.colab.kernel.accessAllowed ? 'block' : 'none';\n",
              "    })();\n",
              "  </script>\n",
              "</div>\n",
              "\n",
              "  <div id=\"id_305dbf10-8c32-493a-8ffd-96f146bd6e63\">\n",
              "    <style>\n",
              "      .colab-df-generate {\n",
              "        background-color: #E8F0FE;\n",
              "        border: none;\n",
              "        border-radius: 50%;\n",
              "        cursor: pointer;\n",
              "        display: none;\n",
              "        fill: #1967D2;\n",
              "        height: 32px;\n",
              "        padding: 0 0 0 0;\n",
              "        width: 32px;\n",
              "      }\n",
              "\n",
              "      .colab-df-generate:hover {\n",
              "        background-color: #E2EBFA;\n",
              "        box-shadow: 0px 1px 2px rgba(60, 64, 67, 0.3), 0px 1px 3px 1px rgba(60, 64, 67, 0.15);\n",
              "        fill: #174EA6;\n",
              "      }\n",
              "\n",
              "      [theme=dark] .colab-df-generate {\n",
              "        background-color: #3B4455;\n",
              "        fill: #D2E3FC;\n",
              "      }\n",
              "\n",
              "      [theme=dark] .colab-df-generate:hover {\n",
              "        background-color: #434B5C;\n",
              "        box-shadow: 0px 1px 3px 1px rgba(0, 0, 0, 0.15);\n",
              "        filter: drop-shadow(0px 1px 2px rgba(0, 0, 0, 0.3));\n",
              "        fill: #FFFFFF;\n",
              "      }\n",
              "    </style>\n",
              "    <button class=\"colab-df-generate\" onclick=\"generateWithVariable('df_counts')\"\n",
              "            title=\"Generate code using this dataframe.\"\n",
              "            style=\"display:none;\">\n",
              "\n",
              "  <svg xmlns=\"http://www.w3.org/2000/svg\" height=\"24px\"viewBox=\"0 0 24 24\"\n",
              "       width=\"24px\">\n",
              "    <path d=\"M7,19H8.4L18.45,9,17,7.55,7,17.6ZM5,21V16.75L18.45,3.32a2,2,0,0,1,2.83,0l1.4,1.43a1.91,1.91,0,0,1,.58,1.4,1.91,1.91,0,0,1-.58,1.4L9.25,21ZM18.45,9,17,7.55Zm-12,3A5.31,5.31,0,0,0,4.9,8.1,5.31,5.31,0,0,0,1,6.5,5.31,5.31,0,0,0,4.9,4.9,5.31,5.31,0,0,0,6.5,1,5.31,5.31,0,0,0,8.1,4.9,5.31,5.31,0,0,0,12,6.5,5.46,5.46,0,0,0,6.5,12Z\"/>\n",
              "  </svg>\n",
              "    </button>\n",
              "    <script>\n",
              "      (() => {\n",
              "      const buttonEl =\n",
              "        document.querySelector('#id_305dbf10-8c32-493a-8ffd-96f146bd6e63 button.colab-df-generate');\n",
              "      buttonEl.style.display =\n",
              "        google.colab.kernel.accessAllowed ? 'block' : 'none';\n",
              "\n",
              "      buttonEl.onclick = () => {\n",
              "        google.colab.notebook.generateWithVariable('df_counts');\n",
              "      }\n",
              "      })();\n",
              "    </script>\n",
              "  </div>\n",
              "\n",
              "    </div>\n",
              "  </div>\n"
            ],
            "application/vnd.google.colaboratory.intrinsic+json": {
              "type": "dataframe",
              "variable_name": "df_counts",
              "summary": "{\n  \"name\": \"df_counts\",\n  \"rows\": 2,\n  \"fields\": [\n    {\n      \"column\": \"MIS_Status\",\n      \"properties\": {\n        \"dtype\": \"number\",\n        \"std\": 0,\n        \"min\": 0,\n        \"max\": 1,\n        \"num_unique_values\": 2,\n        \"samples\": [\n          0,\n          1\n        ],\n        \"semantic_type\": \"\",\n        \"description\": \"\"\n      }\n    },\n    {\n      \"column\": \"count\",\n      \"properties\": {\n        \"dtype\": \"number\",\n        \"std\": 13197,\n        \"min\": 11274,\n        \"max\": 29938,\n        \"num_unique_values\": 2,\n        \"samples\": [\n          11274,\n          29938\n        ],\n        \"semantic_type\": \"\",\n        \"description\": \"\"\n      }\n    },\n    {\n      \"column\": \"prc\",\n      \"properties\": {\n        \"dtype\": \"number\",\n        \"std\": 0.31961226509631946,\n        \"min\": 0.274,\n        \"max\": 0.726,\n        \"num_unique_values\": 2,\n        \"samples\": [\n          0.274,\n          0.726\n        ],\n        \"semantic_type\": \"\",\n        \"description\": \"\"\n      }\n    }\n  ]\n}"
            }
          },
          "metadata": {},
          "execution_count": 5
        }
      ]
    },
    {
      "cell_type": "code",
      "source": [
        "#Define X and y and split for train and test\n",
        "X = df_for_models.drop('MIS_Status',axis=1)\n",
        "y = df_for_models['MIS_Status']\n",
        "\n",
        "X_train,X_test,y_train,y_test = train_test_split(X,y,test_size=0.2,random_state=42)"
      ],
      "metadata": {
        "id": "IWpokddfVQvg"
      },
      "execution_count": 9,
      "outputs": []
    },
    {
      "cell_type": "code",
      "source": [
        "#Create dictionary of the models\n",
        "models_dict = {'SVC':LinearSVC(random_state=42),\n",
        "               'Logistic':LogisticRegression(random_state=42),\n",
        "               'RandomForest':RandomForestClassifier(random_state=42),\n",
        "               'GradientBoost':GradientBoostingClassifier(random_state=42),\n",
        "               'XGB':xgb.XGBClassifier(random_state=42)\n",
        "               }\n",
        "dict_results = {}\n",
        "\n",
        "#Loop for show the result for each model and save to dictionary for create df\n",
        "for model_name,model in models_dict.items():\n",
        "  print(\"***\"*10,f'Model: {model_name}',\"***\"*10)\n",
        "  model.fit(X_train,y_train)\n",
        "  y_pred = model.predict(X_test)\n",
        "  auc,f1,acc = performance_model(y_test,y_pred)\n",
        "  dict_results[model_name]={\"AUC\":auc,\"F1\":f1,\"Accuracy\":acc}\n",
        "  print(\"***\"*30)\n"
      ],
      "metadata": {
        "colab": {
          "base_uri": "https://localhost:8080/",
          "height": 1000
        },
        "id": "xF3k1AYFVpo7",
        "outputId": "c0a07474-109a-46d2-f8ba-7cdd8c5cf6bd"
      },
      "execution_count": 12,
      "outputs": [
        {
          "output_type": "stream",
          "name": "stdout",
          "text": [
            "****************************** Model: SVC ******************************\n",
            "AUC: 0.7261999309865095\n",
            "F1 Score: 0.8867273297772199\n",
            "Accuracy: 0.8248210602935825\n",
            "              precision    recall  f1-score   support\n",
            "\n",
            "           0       0.77      0.51      0.61      2257\n",
            "           1       0.84      0.94      0.89      5986\n",
            "\n",
            "    accuracy                           0.82      8243\n",
            "   macro avg       0.81      0.73      0.75      8243\n",
            "weighted avg       0.82      0.82      0.81      8243\n",
            "\n"
          ]
        },
        {
          "output_type": "display_data",
          "data": {
            "text/plain": [
              "<Figure size 640x480 with 2 Axes>"
            ],
            "image/png": "[encoded data removed]"
          },
          "metadata": {}
        },
        {
          "output_type": "stream",
          "name": "stdout",
          "text": [
            "******************************************************************************************\n",
            "****************************** Model: Logistic ******************************\n",
            "AUC: 0.7421684787765753\n",
            "F1 Score: 0.8904878627342453\n",
            "Accuracy: 0.8319786485502851\n",
            "              precision    recall  f1-score   support\n",
            "\n",
            "           0       0.78      0.54      0.64      2257\n",
            "           1       0.85      0.94      0.89      5986\n",
            "\n",
            "    accuracy                           0.83      8243\n",
            "   macro avg       0.81      0.74      0.76      8243\n",
            "weighted avg       0.83      0.83      0.82      8243\n",
            "\n"
          ]
        },
        {
          "output_type": "display_data",
          "data": {
            "text/plain": [
              "<Figure size 640x480 with 2 Axes>"
            ],
            "image/png": "[encoded data removed]"
          },
          "metadata": {}
        },
        {
          "output_type": "stream",
          "name": "stdout",
          "text": [
            "******************************************************************************************\n",
            "****************************** Model: RandomForest ******************************\n",
            "AUC: 0.8937042361877907\n",
            "F1 Score: 0.9493952110589978\n",
            "Accuracy: 0.9253912410530146\n",
            "              precision    recall  f1-score   support\n",
            "\n",
            "           0       0.90      0.82      0.86      2257\n",
            "           1       0.94      0.96      0.95      5986\n",
            "\n",
            "    accuracy                           0.93      8243\n",
            "   macro avg       0.92      0.89      0.90      8243\n",
            "weighted avg       0.92      0.93      0.92      8243\n",
            "\n"
          ]
        },
        {
          "output_type": "display_data",
          "data": {
            "text/plain": [
              "<Figure size 640x480 with 2 Axes>"
            ],
            "image/png": "[encoded data removed]"
          },
          "metadata": {}
        },
        {
          "output_type": "stream",
          "name": "stdout",
          "text": [
            "******************************************************************************************\n",
            "****************************** Model: GradientBoost ******************************\n",
            "AUC: 0.9002013411592046\n",
            "F1 Score: 0.9503804168044988\n",
            "Accuracy: 0.9272109668809899\n",
            "              precision    recall  f1-score   support\n",
            "\n",
            "           0       0.89      0.84      0.86      2257\n",
            "           1       0.94      0.96      0.95      5986\n",
            "\n",
            "    accuracy                           0.93      8243\n",
            "   macro avg       0.91      0.90      0.91      8243\n",
            "weighted avg       0.93      0.93      0.93      8243\n",
            "\n"
          ]
        },
        {
          "output_type": "display_data",
          "data": {
            "text/plain": [
              "<Figure size 640x480 with 2 Axes>"
            ],
            "image/png": "[encoded data removed]"
          },
          "metadata": {}
        },
        {
          "output_type": "stream",
          "name": "stdout",
          "text": [
            "******************************************************************************************\n",
            "****************************** Model: XGB ******************************\n",
            "AUC: 0.9143286039897259\n",
            "F1 Score: 0.9559873775120412\n",
            "Accuracy: 0.9357030207448744\n",
            "              precision    recall  f1-score   support\n",
            "\n",
            "           0       0.89      0.87      0.88      2257\n",
            "           1       0.95      0.96      0.96      5986\n",
            "\n",
            "    accuracy                           0.94      8243\n",
            "   macro avg       0.92      0.91      0.92      8243\n",
            "weighted avg       0.94      0.94      0.94      8243\n",
            "\n"
          ]
        },
        {
          "output_type": "display_data",
          "data": {
            "text/plain": [
              "<Figure size 640x480 with 2 Axes>"
            ],
            "image/png": "[encoded data removed]"
          },
          "metadata": {}
        },
        {
          "output_type": "stream",
          "name": "stdout",
          "text": [
            "******************************************************************************************\n"
          ]
        }
      ]
    },
    {
      "cell_type": "code",
      "source": [
        "#Create df of the main results\n",
        "df_results = pd.DataFrame(dict_results).T\n",
        "#I chhose highlite the AUC column because this is indicate for the all tresholds, but f1 and accuracy is define by defualt treshold of 0.5\n",
        "df_results_color = Functions_for_EDA.highlight_max_in_columns(df_results,'AUC',\"green\")\n",
        "df_results_color"
      ],
      "metadata": {
        "colab": {
          "base_uri": "https://localhost:8080/",
          "height": 206
        },
        "id": "835B3c2jaTgS",
        "outputId": "cafbd0cb-abbf-43db-e518-7fb6fad0c38e"
      },
      "execution_count": 14,
      "outputs": [
        {
          "output_type": "execute_result",
          "data": {
            "text/plain": [
              "<pandas.io.formats.style.Styler at 0x7ba977195850>"
            ],
            "text/html": [
              "<style type=\"text/css\">\n",
              "#T_2fc10_row4_col0 {\n",
              "  background-color: green;\n",
              "}\n",
              "</style>\n",
              "<table id=\"T_2fc10\" class=\"dataframe\">\n",
              "  <thead>\n",
              "    <tr>\n",
              "      <th class=\"blank level0\" >&nbsp;</th>\n",
              "      <th id=\"T_2fc10_level0_col0\" class=\"col_heading level0 col0\" >AUC</th>\n",
              "      <th id=\"T_2fc10_level0_col1\" class=\"col_heading level0 col1\" >F1</th>\n",
              "      <th id=\"T_2fc10_level0_col2\" class=\"col_heading level0 col2\" >Accuracy</th>\n",
              "    </tr>\n",
              "  </thead>\n",
              "  <tbody>\n",
              "    <tr>\n",
              "      <th id=\"T_2fc10_level0_row0\" class=\"row_heading level0 row0\" >SVC</th>\n",
              "      <td id=\"T_2fc10_row0_col0\" class=\"data row0 col0\" >0.726200</td>\n",
              "      <td id=\"T_2fc10_row0_col1\" class=\"data row0 col1\" >0.886727</td>\n",
              "      <td id=\"T_2fc10_row0_col2\" class=\"data row0 col2\" >0.824821</td>\n",
              "    </tr>\n",
              "    <tr>\n",
              "      <th id=\"T_2fc10_level0_row1\" class=\"row_heading level0 row1\" >Logistic</th>\n",
              "      <td id=\"T_2fc10_row1_col0\" class=\"data row1 col0\" >0.742168</td>\n",
              "      <td id=\"T_2fc10_row1_col1\" class=\"data row1 col1\" >0.890488</td>\n",
              "      <td id=\"T_2fc10_row1_col2\" class=\"data row1 col2\" >0.831979</td>\n",
              "    </tr>\n",
              "    <tr>\n",
              "      <th id=\"T_2fc10_level0_row2\" class=\"row_heading level0 row2\" >RandomForest</th>\n",
              "      <td id=\"T_2fc10_row2_col0\" class=\"data row2 col0\" >0.893704</td>\n",
              "      <td id=\"T_2fc10_row2_col1\" class=\"data row2 col1\" >0.949395</td>\n",
              "      <td id=\"T_2fc10_row2_col2\" class=\"data row2 col2\" >0.925391</td>\n",
              "    </tr>\n",
              "    <tr>\n",
              "      <th id=\"T_2fc10_level0_row3\" class=\"row_heading level0 row3\" >GradientBoost</th>\n",
              "      <td id=\"T_2fc10_row3_col0\" class=\"data row3 col0\" >0.900201</td>\n",
              "      <td id=\"T_2fc10_row3_col1\" class=\"data row3 col1\" >0.950380</td>\n",
              "      <td id=\"T_2fc10_row3_col2\" class=\"data row3 col2\" >0.927211</td>\n",
              "    </tr>\n",
              "    <tr>\n",
              "      <th id=\"T_2fc10_level0_row4\" class=\"row_heading level0 row4\" >XGB</th>\n",
              "      <td id=\"T_2fc10_row4_col0\" class=\"data row4 col0\" >0.914329</td>\n",
              "      <td id=\"T_2fc10_row4_col1\" class=\"data row4 col1\" >0.955987</td>\n",
              "      <td id=\"T_2fc10_row4_col2\" class=\"data row4 col2\" >0.935703</td>\n",
              "    </tr>\n",
              "  </tbody>\n",
              "</table>\n"
            ]
          },
          "metadata": {},
          "execution_count": 14
        }
      ]
    }
  ]
}