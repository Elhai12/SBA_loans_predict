{
  "nbformat": 4,
  "nbformat_minor": 0,
  "metadata": {
    "colab": {
      "provenance": [],
      "authorship_tag": "ABX9TyNxpGlS9l5CYGdS9sMv1X6o",
      "include_colab_link": true
    },
    "kernelspec": {
      "name": "python3",
      "display_name": "Python 3"
    },
    "language_info": {
      "name": "python"
    }
  },
  "cells": [
    {
      "cell_type": "markdown",
      "metadata": {
        "id": "view-in-github",
        "colab_type": "text"
      },
      "source": [
        "<a href=\"https://colab.research.google.com/github/Elhai12/SBA_loans_predict/blob/main/Model_selection%26Finetuning.ipynb\" target=\"_parent\"><img src=\"https://colab.research.google.com/assets/colab-badge.svg\" alt=\"Open In Colab\"/></a>"
      ]
    },
    {
      "cell_type": "code",
      "source": [
        "#Clone git to get the files\n",
        "!git clone https://github.com/Elhai12/SBA_loans_predict.git"
      ],
      "metadata": {
        "colab": {
          "base_uri": "https://localhost:8080/"
        },
        "id": "jj9snuLSQWjD",
        "outputId": "264fb8a9-320d-4880-fffb-efa9534338df"
      },
      "execution_count": null,
      "outputs": [
        {
          "output_type": "stream",
          "name": "stdout",
          "text": [
            "Cloning into 'SBA_loans_predict'...\n",
            "remote: Enumerating objects: 194, done.\u001b[K\n",
            "remote: Counting objects: 100% (81/81), done.\u001b[K\n",
            "remote: Compressing objects: 100% (57/57), done.\u001b[K\n",
            "remote: Total 194 (delta 58), reused 24 (delta 24), pack-reused 113 (from 1)\u001b[K\n",
            "Receiving objects: 100% (194/194), 32.32 MiB | 21.80 MiB/s, done.\n",
            "Resolving deltas: 100% (89/89), done.\n"
          ]
        }
      ]
    },
    {
      "cell_type": "code",
      "source": [
        "import pandas as pd\n",
        "import numpy as np\n",
        "import seaborn as sns\n",
        "import matplotlib.pyplot as plt\n",
        "import warnings\n",
        "import re\n",
        "warnings.filterwarnings('ignore')\n",
        "import time\n",
        "from plotly.subplots import make_subplots\n",
        "import plotly.express as px\n",
        "import plotly.subplots as sp\n",
        "from scipy.stats import mannwhitneyu,chisquare,chi2_contingency\n",
        "import plotly.express as px\n",
        "from SBA_loans_predict import Functions_for_EDA\n",
        "from sklearn.preprocessing import OneHotEncoder,LabelEncoder\n",
        "from scipy.stats import ttest_ind\n",
        "from scipy.stats import chi2_contingency\n",
        "from sklearn.linear_model import Lasso, Ridge\n",
        "from sklearn.svm import LinearSVC\n",
        "from sklearn.ensemble import GradientBoostingClassifier, RandomForestClassifier\n",
        "from sklearn.linear_model import LogisticRegression\n",
        "import xgboost as xgb\n",
        "from sklearn.metrics import f1_score,roc_auc_score,r2_score,accuracy_score,confusion_matrix,classification_report,ConfusionMatrixDisplay,make_scorer\n",
        "from sklearn.model_selection import train_test_split\n",
        "from sklearn.model_selection import GridSearchCV,RandomizedSearchCV\n"
      ],
      "metadata": {
        "id": "0vudj3kybpSc"
      },
      "execution_count": null,
      "outputs": []
    },
    {
      "cell_type": "code",
      "source": [
        "df_for_models = pd.read_pickle('/content/SBA_loans_predict/data_files/data_after_feat_eng.pkl')"
      ],
      "metadata": {
        "id": "1ZCJFOqDQUWz"
      },
      "execution_count": null,
      "outputs": []
    },
    {
      "cell_type": "markdown",
      "source": [
        "#Model Selction"
      ],
      "metadata": {
        "id": "axhLCu1bs_2G"
      }
    },
    {
      "cell_type": "code",
      "source": [
        "#Create function for show the performance of the models\n",
        "def performance_model(y,y_pred):\n",
        "  auc = roc_auc_score(y,y_pred)\n",
        "  print(f'AUC: {auc}')\n",
        "  f1 = f1_score(y,y_pred)\n",
        "  print(f'F1 Score: {f1}')\n",
        "  accuracy = accuracy_score(y,y_pred)\n",
        "  print(f'Accuracy: {accuracy}')\n",
        "  report = classification_report(y,y_pred)\n",
        "  print(report)\n",
        "\n",
        "  conf_matrix = confusion_matrix(y,y_pred)\n",
        "  cm_display = ConfusionMatrixDisplay(confusion_matrix = conf_matrix, display_labels = [1,0])\n",
        "  cm_display.plot()\n",
        "  plt.show()\n",
        "  return auc,f1,accuracy\n",
        "\n"
      ],
      "metadata": {
        "id": "l0H8q7O5QvS7"
      },
      "execution_count": null,
      "outputs": []
    },
    {
      "cell_type": "code",
      "source": [
        "#Check Imbalanced\n",
        "df_counts = pd.DataFrame(df_for_models['MIS_Status'].value_counts())\n",
        "df_counts['prc'] = round(df_counts['count']/df_counts['count'].sum(),3)\n",
        "df_counts"
      ],
      "metadata": {
        "colab": {
          "base_uri": "https://localhost:8080/",
          "height": 143
        },
        "id": "Jo7HspZtVsbQ",
        "outputId": "c0a95e8a-e621-4fb6-d32d-2bbf148901ed"
      },
      "execution_count": null,
      "outputs": [
        {
          "output_type": "execute_result",
          "data": {
            "text/plain": [
              "            count    prc\n",
              "MIS_Status              \n",
              "1           29938  0.726\n",
              "0           11274  0.274"
            ],
            "text/html": [
              "\n",
              "  <div id=\"df-e1a8f892-d9f6-4e59-8a6f-30eb504ec697\" class=\"colab-df-container\">\n",
              "    <div>\n",
              "<style scoped>\n",
              "    .dataframe tbody tr th:only-of-type {\n",
              "        vertical-align: middle;\n",
              "    }\n",
              "\n",
              "    .dataframe tbody tr th {\n",
              "        vertical-align: top;\n",
              "    }\n",
              "\n",
              "    .dataframe thead th {\n",
              "        text-align: right;\n",
              "    }\n",
              "</style>\n",
              "<table border=\"1\" class=\"dataframe\">\n",
              "  <thead>\n",
              "    <tr style=\"text-align: right;\">\n",
              "      <th></th>\n",
              "      <th>count</th>\n",
              "      <th>prc</th>\n",
              "    </tr>\n",
              "    <tr>\n",
              "      <th>MIS_Status</th>\n",
              "      <th></th>\n",
              "      <th></th>\n",
              "    </tr>\n",
              "  </thead>\n",
              "  <tbody>\n",
              "    <tr>\n",
              "      <th>1</th>\n",
              "      <td>29938</td>\n",
              "      <td>0.726</td>\n",
              "    </tr>\n",
              "    <tr>\n",
              "      <th>0</th>\n",
              "      <td>11274</td>\n",
              "      <td>0.274</td>\n",
              "    </tr>\n",
              "  </tbody>\n",
              "</table>\n",
              "</div>\n",
              "    <div class=\"colab-df-buttons\">\n",
              "\n",
              "  <div class=\"colab-df-container\">\n",
              "    <button class=\"colab-df-convert\" onclick=\"convertToInteractive('df-e1a8f892-d9f6-4e59-8a6f-30eb504ec697')\"\n",
              "            title=\"Convert this dataframe to an interactive table.\"\n",
              "            style=\"display:none;\">\n",
              "\n",
              "  <svg xmlns=\"http://www.w3.org/2000/svg\" height=\"24px\" viewBox=\"0 -960 960 960\">\n",
              "    <path d=\"M120-120v-720h720v720H120Zm60-500h600v-160H180v160Zm220 220h160v-160H400v160Zm0 220h160v-160H400v160ZM180-400h160v-160H180v160Zm440 0h160v-160H620v160ZM180-180h160v-160H180v160Zm440 0h160v-160H620v160Z\"/>\n",
              "  </svg>\n",
              "    </button>\n",
              "\n",
              "  <style>\n",
              "    .colab-df-container {\n",
              "      display:flex;\n",
              "      gap: 12px;\n",
              "    }\n",
              "\n",
              "    .colab-df-convert {\n",
              "      background-color: #E8F0FE;\n",
              "      border: none;\n",
              "      border-radius: 50%;\n",
              "      cursor: pointer;\n",
              "      display: none;\n",
              "      fill: #1967D2;\n",
              "      height: 32px;\n",
              "      padding: 0 0 0 0;\n",
              "      width: 32px;\n",
              "    }\n",
              "\n",
              "    .colab-df-convert:hover {\n",
              "      background-color: #E2EBFA;\n",
              "      box-shadow: 0px 1px 2px rgba(60, 64, 67, 0.3), 0px 1px 3px 1px rgba(60, 64, 67, 0.15);\n",
              "      fill: #174EA6;\n",
              "    }\n",
              "\n",
              "    .colab-df-buttons div {\n",
              "      margin-bottom: 4px;\n",
              "    }\n",
              "\n",
              "    [theme=dark] .colab-df-convert {\n",
              "      background-color: #3B4455;\n",
              "      fill: #D2E3FC;\n",
              "    }\n",
              "\n",
              "    [theme=dark] .colab-df-convert:hover {\n",
              "      background-color: #434B5C;\n",
              "      box-shadow: 0px 1px 3px 1px rgba(0, 0, 0, 0.15);\n",
              "      filter: drop-shadow(0px 1px 2px rgba(0, 0, 0, 0.3));\n",
              "      fill: #FFFFFF;\n",
              "    }\n",
              "  </style>\n",
              "\n",
              "    <script>\n",
              "      const buttonEl =\n",
              "        document.querySelector('#df-e1a8f892-d9f6-4e59-8a6f-30eb504ec697 button.colab-df-convert');\n",
              "      buttonEl.style.display =\n",
              "        google.colab.kernel.accessAllowed ? 'block' : 'none';\n",
              "\n",
              "      async function convertToInteractive(key) {\n",
              "        const element = document.querySelector('#df-e1a8f892-d9f6-4e59-8a6f-30eb504ec697');\n",
              "        const dataTable =\n",
              "          await google.colab.kernel.invokeFunction('convertToInteractive',\n",
              "                                                    [key], {});\n",
              "        if (!dataTable) return;\n",
              "\n",
              "        const docLinkHtml = 'Like what you see? Visit the ' +\n",
              "          '<a target=\"_blank\" href=https://colab.research.google.com/notebooks/data_table.ipynb>data table notebook</a>'\n",
              "          + ' to learn more about interactive tables.';\n",
              "        element.innerHTML = '';\n",
              "        dataTable['output_type'] = 'display_data';\n",
              "        await google.colab.output.renderOutput(dataTable, element);\n",
              "        const docLink = document.createElement('div');\n",
              "        docLink.innerHTML = docLinkHtml;\n",
              "        element.appendChild(docLink);\n",
              "      }\n",
              "    </script>\n",
              "  </div>\n",
              "\n",
              "\n",
              "<div id=\"df-eab6c0b5-b258-465f-9035-5869e0ef1f6c\">\n",
              "  <button class=\"colab-df-quickchart\" onclick=\"quickchart('df-eab6c0b5-b258-465f-9035-5869e0ef1f6c')\"\n",
              "            title=\"Suggest charts\"\n",
              "            style=\"display:none;\">\n",
              "\n",
              "<svg xmlns=\"http://www.w3.org/2000/svg\" height=\"24px\"viewBox=\"0 0 24 24\"\n",
              "     width=\"24px\">\n",
              "    <g>\n",
              "        <path d=\"M19 3H5c-1.1 0-2 .9-2 2v14c0 1.1.9 2 2 2h14c1.1 0 2-.9 2-2V5c0-1.1-.9-2-2-2zM9 17H7v-7h2v7zm4 0h-2V7h2v10zm4 0h-2v-4h2v4z\"/>\n",
              "    </g>\n",
              "</svg>\n",
              "  </button>\n",
              "\n",
              "<style>\n",
              "  .colab-df-quickchart {\n",
              "      --bg-color: #E8F0FE;\n",
              "      --fill-color: #1967D2;\n",
              "      --hover-bg-color: #E2EBFA;\n",
              "      --hover-fill-color: #174EA6;\n",
              "      --disabled-fill-color: #AAA;\n",
              "      --disabled-bg-color: #DDD;\n",
              "  }\n",
              "\n",
              "  [theme=dark] .colab-df-quickchart {\n",
              "      --bg-color: #3B4455;\n",
              "      --fill-color: #D2E3FC;\n",
              "      --hover-bg-color: #434B5C;\n",
              "      --hover-fill-color: #FFFFFF;\n",
              "      --disabled-bg-color: #3B4455;\n",
              "      --disabled-fill-color: #666;\n",
              "  }\n",
              "\n",
              "  .colab-df-quickchart {\n",
              "    background-color: var(--bg-color);\n",
              "    border: none;\n",
              "    border-radius: 50%;\n",
              "    cursor: pointer;\n",
              "    display: none;\n",
              "    fill: var(--fill-color);\n",
              "    height: 32px;\n",
              "    padding: 0;\n",
              "    width: 32px;\n",
              "  }\n",
              "\n",
              "  .colab-df-quickchart:hover {\n",
              "    background-color: var(--hover-bg-color);\n",
              "    box-shadow: 0 1px 2px rgba(60, 64, 67, 0.3), 0 1px 3px 1px rgba(60, 64, 67, 0.15);\n",
              "    fill: var(--button-hover-fill-color);\n",
              "  }\n",
              "\n",
              "  .colab-df-quickchart-complete:disabled,\n",
              "  .colab-df-quickchart-complete:disabled:hover {\n",
              "    background-color: var(--disabled-bg-color);\n",
              "    fill: var(--disabled-fill-color);\n",
              "    box-shadow: none;\n",
              "  }\n",
              "\n",
              "  .colab-df-spinner {\n",
              "    border: 2px solid var(--fill-color);\n",
              "    border-color: transparent;\n",
              "    border-bottom-color: var(--fill-color);\n",
              "    animation:\n",
              "      spin 1s steps(1) infinite;\n",
              "  }\n",
              "\n",
              "  @keyframes spin {\n",
              "    0% {\n",
              "      border-color: transparent;\n",
              "      border-bottom-color: var(--fill-color);\n",
              "      border-left-color: var(--fill-color);\n",
              "    }\n",
              "    20% {\n",
              "      border-color: transparent;\n",
              "      border-left-color: var(--fill-color);\n",
              "      border-top-color: var(--fill-color);\n",
              "    }\n",
              "    30% {\n",
              "      border-color: transparent;\n",
              "      border-left-color: var(--fill-color);\n",
              "      border-top-color: var(--fill-color);\n",
              "      border-right-color: var(--fill-color);\n",
              "    }\n",
              "    40% {\n",
              "      border-color: transparent;\n",
              "      border-right-color: var(--fill-color);\n",
              "      border-top-color: var(--fill-color);\n",
              "    }\n",
              "    60% {\n",
              "      border-color: transparent;\n",
              "      border-right-color: var(--fill-color);\n",
              "    }\n",
              "    80% {\n",
              "      border-color: transparent;\n",
              "      border-right-color: var(--fill-color);\n",
              "      border-bottom-color: var(--fill-color);\n",
              "    }\n",
              "    90% {\n",
              "      border-color: transparent;\n",
              "      border-bottom-color: var(--fill-color);\n",
              "    }\n",
              "  }\n",
              "</style>\n",
              "\n",
              "  <script>\n",
              "    async function quickchart(key) {\n",
              "      const quickchartButtonEl =\n",
              "        document.querySelector('#' + key + ' button');\n",
              "      quickchartButtonEl.disabled = true;  // To prevent multiple clicks.\n",
              "      quickchartButtonEl.classList.add('colab-df-spinner');\n",
              "      try {\n",
              "        const charts = await google.colab.kernel.invokeFunction(\n",
              "            'suggestCharts', [key], {});\n",
              "      } catch (error) {\n",
              "        console.error('Error during call to suggestCharts:', error);\n",
              "      }\n",
              "      quickchartButtonEl.classList.remove('colab-df-spinner');\n",
              "      quickchartButtonEl.classList.add('colab-df-quickchart-complete');\n",
              "    }\n",
              "    (() => {\n",
              "      let quickchartButtonEl =\n",
              "        document.querySelector('#df-eab6c0b5-b258-465f-9035-5869e0ef1f6c button');\n",
              "      quickchartButtonEl.style.display =\n",
              "        google.colab.kernel.accessAllowed ? 'block' : 'none';\n",
              "    })();\n",
              "  </script>\n",
              "</div>\n",
              "\n",
              "  <div id=\"id_8346a792-6ac5-4000-bc35-a31dcdeba148\">\n",
              "    <style>\n",
              "      .colab-df-generate {\n",
              "        background-color: #E8F0FE;\n",
              "        border: none;\n",
              "        border-radius: 50%;\n",
              "        cursor: pointer;\n",
              "        display: none;\n",
              "        fill: #1967D2;\n",
              "        height: 32px;\n",
              "        padding: 0 0 0 0;\n",
              "        width: 32px;\n",
              "      }\n",
              "\n",
              "      .colab-df-generate:hover {\n",
              "        background-color: #E2EBFA;\n",
              "        box-shadow: 0px 1px 2px rgba(60, 64, 67, 0.3), 0px 1px 3px 1px rgba(60, 64, 67, 0.15);\n",
              "        fill: #174EA6;\n",
              "      }\n",
              "\n",
              "      [theme=dark] .colab-df-generate {\n",
              "        background-color: #3B4455;\n",
              "        fill: #D2E3FC;\n",
              "      }\n",
              "\n",
              "      [theme=dark] .colab-df-generate:hover {\n",
              "        background-color: #434B5C;\n",
              "        box-shadow: 0px 1px 3px 1px rgba(0, 0, 0, 0.15);\n",
              "        filter: drop-shadow(0px 1px 2px rgba(0, 0, 0, 0.3));\n",
              "        fill: #FFFFFF;\n",
              "      }\n",
              "    </style>\n",
              "    <button class=\"colab-df-generate\" onclick=\"generateWithVariable('df_counts')\"\n",
              "            title=\"Generate code using this dataframe.\"\n",
              "            style=\"display:none;\">\n",
              "\n",
              "  <svg xmlns=\"http://www.w3.org/2000/svg\" height=\"24px\"viewBox=\"0 0 24 24\"\n",
              "       width=\"24px\">\n",
              "    <path d=\"M7,19H8.4L18.45,9,17,7.55,7,17.6ZM5,21V16.75L18.45,3.32a2,2,0,0,1,2.83,0l1.4,1.43a1.91,1.91,0,0,1,.58,1.4,1.91,1.91,0,0,1-.58,1.4L9.25,21ZM18.45,9,17,7.55Zm-12,3A5.31,5.31,0,0,0,4.9,8.1,5.31,5.31,0,0,0,1,6.5,5.31,5.31,0,0,0,4.9,4.9,5.31,5.31,0,0,0,6.5,1,5.31,5.31,0,0,0,8.1,4.9,5.31,5.31,0,0,0,12,6.5,5.46,5.46,0,0,0,6.5,12Z\"/>\n",
              "  </svg>\n",
              "    </button>\n",
              "    <script>\n",
              "      (() => {\n",
              "      const buttonEl =\n",
              "        document.querySelector('#id_8346a792-6ac5-4000-bc35-a31dcdeba148 button.colab-df-generate');\n",
              "      buttonEl.style.display =\n",
              "        google.colab.kernel.accessAllowed ? 'block' : 'none';\n",
              "\n",
              "      buttonEl.onclick = () => {\n",
              "        google.colab.notebook.generateWithVariable('df_counts');\n",
              "      }\n",
              "      })();\n",
              "    </script>\n",
              "  </div>\n",
              "\n",
              "    </div>\n",
              "  </div>\n"
            ],
            "application/vnd.google.colaboratory.intrinsic+json": {
              "type": "dataframe",
              "variable_name": "df_counts",
              "summary": "{\n  \"name\": \"df_counts\",\n  \"rows\": 2,\n  \"fields\": [\n    {\n      \"column\": \"MIS_Status\",\n      \"properties\": {\n        \"dtype\": \"number\",\n        \"std\": 0,\n        \"min\": 0,\n        \"max\": 1,\n        \"num_unique_values\": 2,\n        \"samples\": [\n          0,\n          1\n        ],\n        \"semantic_type\": \"\",\n        \"description\": \"\"\n      }\n    },\n    {\n      \"column\": \"count\",\n      \"properties\": {\n        \"dtype\": \"number\",\n        \"std\": 13197,\n        \"min\": 11274,\n        \"max\": 29938,\n        \"num_unique_values\": 2,\n        \"samples\": [\n          11274,\n          29938\n        ],\n        \"semantic_type\": \"\",\n        \"description\": \"\"\n      }\n    },\n    {\n      \"column\": \"prc\",\n      \"properties\": {\n        \"dtype\": \"number\",\n        \"std\": 0.31961226509631946,\n        \"min\": 0.274,\n        \"max\": 0.726,\n        \"num_unique_values\": 2,\n        \"samples\": [\n          0.274,\n          0.726\n        ],\n        \"semantic_type\": \"\",\n        \"description\": \"\"\n      }\n    }\n  ]\n}"
            }
          },
          "metadata": {},
          "execution_count": 5
        }
      ]
    },
    {
      "cell_type": "code",
      "source": [
        "#Define X and y and split for train and test\n",
        "X = df_for_models.drop('MIS_Status',axis=1)\n",
        "y = df_for_models['MIS_Status']\n",
        "\n",
        "X_train,X_temp,y_train,y_temp = train_test_split(X,y,test_size=0.2,random_state=42)\n",
        "X_test,X_val,y_test,y_val = train_test_split(X_temp,y_temp,test_size=0.5,random_state=42)\n"
      ],
      "metadata": {
        "id": "IWpokddfVQvg"
      },
      "execution_count": null,
      "outputs": []
    },
    {
      "cell_type": "code",
      "source": [
        "#Create dictionary of the models\n",
        "models_dict = {'SVC':LinearSVC(random_state=42),\n",
        "               'Logistic':LogisticRegression(random_state=42),\n",
        "               'RandomForest':RandomForestClassifier(random_state=42),\n",
        "               'GradientBoost':GradientBoostingClassifier(random_state=42),\n",
        "               'XGB':xgb.XGBClassifier(random_state=42)\n",
        "               }\n",
        "dict_results = {}\n",
        "\n",
        "#Loop for show the result for each model and save to dictionary for create df\n",
        "for model_name,model in models_dict.items():\n",
        "  print(\"***\"*10,f'Model: {model_name}',\"***\"*10)\n",
        "  model.fit(X_train,y_train)\n",
        "  y_pred = model.predict(X_val)\n",
        "  auc,f1,acc = performance_model(y_val,y_pred)\n",
        "  dict_results[model_name]={\"AUC\":auc,\"F1\":f1,\"Accuracy\":acc}\n",
        "  print(\"***\"*30)\n"
      ],
      "metadata": {
        "colab": {
          "base_uri": "https://localhost:8080/",
          "height": 1000
        },
        "id": "xF3k1AYFVpo7",
        "outputId": "f5928e8b-3b06-4733-980a-9dfe6f1b6f09"
      },
      "execution_count": null,
      "outputs": [
        {
          "output_type": "stream",
          "name": "stdout",
          "text": [
            "****************************** Model: SVC ******************************\n",
            "AUC: 0.7320180932909462\n",
            "F1 Score: 0.8887142408047783\n",
            "Accuracy: 0.8282387190684134\n",
            "              precision    recall  f1-score   support\n",
            "\n",
            "           0       0.78      0.52      0.62      1132\n",
            "           1       0.84      0.95      0.89      2990\n",
            "\n",
            "    accuracy                           0.83      4122\n",
            "   macro avg       0.81      0.73      0.76      4122\n",
            "weighted avg       0.82      0.83      0.82      4122\n",
            "\n"
          ]
        },
        {
          "output_type": "display_data",
          "data": {
            "text/plain": [
              "<Figure size 640x480 with 2 Axes>"
            ],
            "image/png": "[encoded data removed]"
          },
          "metadata": {}
        },
        {
          "output_type": "stream",
          "name": "stdout",
          "text": [
            "******************************************************************************************\n",
            "****************************** Model: Logistic ******************************\n",
            "AUC: 0.7480136970112388\n",
            "F1 Score: 0.8925855513307985\n",
            "Accuracy: 0.8355167394468704\n",
            "              precision    recall  f1-score   support\n",
            "\n",
            "           0       0.78      0.55      0.65      1132\n",
            "           1       0.85      0.94      0.89      2990\n",
            "\n",
            "    accuracy                           0.84      4122\n",
            "   macro avg       0.82      0.75      0.77      4122\n",
            "weighted avg       0.83      0.84      0.83      4122\n",
            "\n"
          ]
        },
        {
          "output_type": "display_data",
          "data": {
            "text/plain": [
              "<Figure size 640x480 with 2 Axes>"
            ],
            "image/png": "[encoded data removed]"
          },
          "metadata": {}
        },
        {
          "output_type": "stream",
          "name": "stdout",
          "text": [
            "******************************************************************************************\n",
            "****************************** Model: RandomForest ******************************\n",
            "AUC: 0.891833792263966\n",
            "F1 Score: 0.9486504279131007\n",
            "Accuracy: 0.9243085880640466\n",
            "              precision    recall  f1-score   support\n",
            "\n",
            "           0       0.90      0.82      0.86      1132\n",
            "           1       0.93      0.96      0.95      2990\n",
            "\n",
            "    accuracy                           0.92      4122\n",
            "   macro avg       0.91      0.89      0.90      4122\n",
            "weighted avg       0.92      0.92      0.92      4122\n",
            "\n"
          ]
        },
        {
          "output_type": "display_data",
          "data": {
            "text/plain": [
              "<Figure size 640x480 with 2 Axes>"
            ],
            "image/png": "[encoded data removed]"
          },
          "metadata": {}
        },
        {
          "output_type": "stream",
          "name": "stdout",
          "text": [
            "******************************************************************************************\n",
            "****************************** Model: GradientBoost ******************************\n",
            "AUC: 0.8966797452048643\n",
            "F1 Score: 0.9494549058473737\n",
            "Accuracy: 0.925764192139738\n",
            "              precision    recall  f1-score   support\n",
            "\n",
            "           0       0.89      0.83      0.86      1132\n",
            "           1       0.94      0.96      0.95      2990\n",
            "\n",
            "    accuracy                           0.93      4122\n",
            "   macro avg       0.91      0.90      0.90      4122\n",
            "weighted avg       0.92      0.93      0.92      4122\n",
            "\n"
          ]
        },
        {
          "output_type": "display_data",
          "data": {
            "text/plain": [
              "<Figure size 640x480 with 2 Axes>"
            ],
            "image/png": "[encoded data removed]"
          },
          "metadata": {}
        },
        {
          "output_type": "stream",
          "name": "stdout",
          "text": [
            "******************************************************************************************\n",
            "****************************** Model: XGB ******************************\n",
            "AUC: 0.906838755805571\n",
            "F1 Score: 0.9530757751616648\n",
            "Accuracy: 0.9313440077632217\n",
            "              precision    recall  f1-score   support\n",
            "\n",
            "           0       0.89      0.85      0.87      1132\n",
            "           1       0.95      0.96      0.95      2990\n",
            "\n",
            "    accuracy                           0.93      4122\n",
            "   macro avg       0.92      0.91      0.91      4122\n",
            "weighted avg       0.93      0.93      0.93      4122\n",
            "\n"
          ]
        },
        {
          "output_type": "display_data",
          "data": {
            "text/plain": [
              "<Figure size 640x480 with 2 Axes>"
            ],
            "image/png": "[encoded data removed]"
          },
          "metadata": {}
        },
        {
          "output_type": "stream",
          "name": "stdout",
          "text": [
            "******************************************************************************************\n"
          ]
        }
      ]
    },
    {
      "cell_type": "code",
      "source": [
        "#Create df of the main results\n",
        "df_results = pd.DataFrame(dict_results).T\n",
        "#I chhose highlite the AUC column because this is indicate for the all tresholds, but f1 and accuracy is define by defualt treshold of 0.5\n",
        "df_results_color = Functions_for_EDA.highlight_max_in_columns(df_results,'AUC',\"green\")\n",
        "df_results_color"
      ],
      "metadata": {
        "colab": {
          "base_uri": "https://localhost:8080/",
          "height": 206
        },
        "id": "835B3c2jaTgS",
        "outputId": "4580559a-021c-4821-cee2-0c87bd5c25be"
      },
      "execution_count": null,
      "outputs": [
        {
          "output_type": "execute_result",
          "data": {
            "text/plain": [
              "<pandas.io.formats.style.Styler at 0x78d8fbb3b290>"
            ],
            "text/html": [
              "<style type=\"text/css\">\n",
              "#T_64859_row4_col0 {\n",
              "  background-color: green;\n",
              "}\n",
              "</style>\n",
              "<table id=\"T_64859\" class=\"dataframe\">\n",
              "  <thead>\n",
              "    <tr>\n",
              "      <th class=\"blank level0\" >&nbsp;</th>\n",
              "      <th id=\"T_64859_level0_col0\" class=\"col_heading level0 col0\" >AUC</th>\n",
              "      <th id=\"T_64859_level0_col1\" class=\"col_heading level0 col1\" >F1</th>\n",
              "      <th id=\"T_64859_level0_col2\" class=\"col_heading level0 col2\" >Accuracy</th>\n",
              "    </tr>\n",
              "  </thead>\n",
              "  <tbody>\n",
              "    <tr>\n",
              "      <th id=\"T_64859_level0_row0\" class=\"row_heading level0 row0\" >SVC</th>\n",
              "      <td id=\"T_64859_row0_col0\" class=\"data row0 col0\" >0.732018</td>\n",
              "      <td id=\"T_64859_row0_col1\" class=\"data row0 col1\" >0.888714</td>\n",
              "      <td id=\"T_64859_row0_col2\" class=\"data row0 col2\" >0.828239</td>\n",
              "    </tr>\n",
              "    <tr>\n",
              "      <th id=\"T_64859_level0_row1\" class=\"row_heading level0 row1\" >Logistic</th>\n",
              "      <td id=\"T_64859_row1_col0\" class=\"data row1 col0\" >0.748014</td>\n",
              "      <td id=\"T_64859_row1_col1\" class=\"data row1 col1\" >0.892586</td>\n",
              "      <td id=\"T_64859_row1_col2\" class=\"data row1 col2\" >0.835517</td>\n",
              "    </tr>\n",
              "    <tr>\n",
              "      <th id=\"T_64859_level0_row2\" class=\"row_heading level0 row2\" >RandomForest</th>\n",
              "      <td id=\"T_64859_row2_col0\" class=\"data row2 col0\" >0.891834</td>\n",
              "      <td id=\"T_64859_row2_col1\" class=\"data row2 col1\" >0.948650</td>\n",
              "      <td id=\"T_64859_row2_col2\" class=\"data row2 col2\" >0.924309</td>\n",
              "    </tr>\n",
              "    <tr>\n",
              "      <th id=\"T_64859_level0_row3\" class=\"row_heading level0 row3\" >GradientBoost</th>\n",
              "      <td id=\"T_64859_row3_col0\" class=\"data row3 col0\" >0.896680</td>\n",
              "      <td id=\"T_64859_row3_col1\" class=\"data row3 col1\" >0.949455</td>\n",
              "      <td id=\"T_64859_row3_col2\" class=\"data row3 col2\" >0.925764</td>\n",
              "    </tr>\n",
              "    <tr>\n",
              "      <th id=\"T_64859_level0_row4\" class=\"row_heading level0 row4\" >XGB</th>\n",
              "      <td id=\"T_64859_row4_col0\" class=\"data row4 col0\" >0.906839</td>\n",
              "      <td id=\"T_64859_row4_col1\" class=\"data row4 col1\" >0.953076</td>\n",
              "      <td id=\"T_64859_row4_col2\" class=\"data row4 col2\" >0.931344</td>\n",
              "    </tr>\n",
              "  </tbody>\n",
              "</table>\n"
            ]
          },
          "metadata": {},
          "execution_count": 8
        }
      ]
    },
    {
      "cell_type": "code",
      "source": [],
      "metadata": {
        "id": "gOyoZER94W9Q"
      },
      "execution_count": null,
      "outputs": []
    },
    {
      "cell_type": "markdown",
      "source": [
        "The model was choosen is XGBoost"
      ],
      "metadata": {
        "id": "q2RXhZ0dtK1x"
      }
    },
    {
      "cell_type": "markdown",
      "source": [
        "#Finetuning"
      ],
      "metadata": {
        "id": "s7GdmC8-9sO-"
      }
    },
    {
      "cell_type": "code",
      "source": [
        "#The paramter for grid search\n",
        "parm_grid = {'n_estimators':[200,220,250],\n",
        "             \"eta\": np.arange(0.3,0.45,0.01),\n",
        "             \"gamma\": np.arange(0.1,0.28,0.01),\n",
        "             \"max_depth\":[5,6,7],\n",
        "             \"subsample\": np.arange(0.7,0.82,0.01),\n",
        "             \"min_child_weight\":range(85,95,5)\n",
        "}\n",
        "\n",
        "#Define the model\n",
        "xgb_model = xgb.XGBClassifier()\n",
        "\n",
        "#Define function to score - by val dataset\n",
        "def scorrer_for_val(model,X_val,y_val):\n",
        "  y_pred = model.predict(X_val)\n",
        "  auc = roc_auc_score(y_val,y_pred)\n",
        "  return auc\n",
        "\n",
        "#Get the best score by the function defined above\n",
        "best_score = make_scorer(scorrer_for_val,greater_is_better=True)\n",
        "\n",
        "#Define the grid search\n",
        "grid_search = RandomizedSearchCV(xgb_model,param_distributions=parm_grid,n_iter=20, cv=5,scoring=best_score)\n",
        "grid_search.fit(X_train,y_train)\n",
        "\n",
        "print(\"Best Parameters:\", grid_search.best_params_)\n"
      ],
      "metadata": {
        "colab": {
          "base_uri": "https://localhost:8080/"
        },
        "id": "714rMTJSs6Gg",
        "outputId": "6def1e76-2033-42bb-e2b5-9618d5bb5aea"
      },
      "execution_count": 23,
      "outputs": [
        {
          "output_type": "stream",
          "name": "stdout",
          "text": [
            "Best Parameters: {'subsample': np.float64(0.7), 'n_estimators': 250, 'min_child_weight': 90, 'max_depth': 5, 'gamma': np.float64(0.15999999999999998), 'eta': np.float64(0.4000000000000001)}\n",
            "Best Score: nan\n"
          ]
        }
      ]
    },
    {
      "cell_type": "code",
      "source": [
        "y_pred_test = grid_search.predict(X_test)\n",
        "performance_model(y_test,y_pred_test)"
      ],
      "metadata": {
        "colab": {
          "base_uri": "https://localhost:8080/",
          "height": 686
        },
        "id": "ZF8za7Kd2mcE",
        "outputId": "cf426aa4-75be-4450-9314-10d6ea04fa70"
      },
      "execution_count": 24,
      "outputs": [
        {
          "output_type": "stream",
          "name": "stdout",
          "text": [
            "AUC: 0.911416407061267\n",
            "F1 Score: 0.9538052509139249\n",
            "Accuracy: 0.9325406454743994\n",
            "              precision    recall  f1-score   support\n",
            "\n",
            "           0       0.89      0.86      0.88      1125\n",
            "           1       0.95      0.96      0.95      2996\n",
            "\n",
            "    accuracy                           0.93      4121\n",
            "   macro avg       0.92      0.91      0.91      4121\n",
            "weighted avg       0.93      0.93      0.93      4121\n",
            "\n"
          ]
        },
        {
          "output_type": "display_data",
          "data": {
            "text/plain": [
              "<Figure size 640x480 with 2 Axes>"
            ],
            "image/png": "[encoded data removed]"
          },
          "metadata": {}
        },
        {
          "output_type": "execute_result",
          "data": {
            "text/plain": [
              "(np.float64(0.911416407061267), 0.9538052509139249, 0.9325406454743994)"
            ]
          },
          "metadata": {},
          "execution_count": 24
        }
      ]
    }
  ]
}