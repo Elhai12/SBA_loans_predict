{
  "nbformat": 4,
  "nbformat_minor": 0,
  "metadata": {
    "colab": {
      "provenance": [],
      "authorship_tag": "ABX9TyPd7oDuFyiyJmAg2GNetf2L",
      "include_colab_link": true
    },
    "kernelspec": {
      "name": "python3",
      "display_name": "Python 3"
    },
    "language_info": {
      "name": "python"
    }
  },
  "cells": [
    {
      "cell_type": "markdown",
      "metadata": {
        "id": "view-in-github",
        "colab_type": "text"
      },
      "source": [
        "<a href=\"https://colab.research.google.com/github/Elhai12/SBA_loans_predict/blob/main/Preparation.ipynb\" target=\"_parent\"><img src=\"https://colab.research.google.com/assets/colab-badge.svg\" alt=\"Open In Colab\"/></a>"
      ]
    },
    {
      "cell_type": "code",
      "execution_count": 73,
      "metadata": {
        "id": "L1op1juXdfrX"
      },
      "outputs": [],
      "source": [
        "import pandas as pd\n",
        "import numpy as np\n",
        "import seaborn as sns\n",
        "import warnings\n",
        "import re\n",
        "warnings.filterwarnings('ignore')\n"
      ]
    },
    {
      "cell_type": "code",
      "source": [
        "df_loans = pd.read_csv('/content/SBAnational.csv')\n",
        "df_filter = df_loans[df_loans['State'].isin(['FL'])]\n",
        "df_filter.info()"
      ],
      "metadata": {
        "colab": {
          "base_uri": "https://localhost:8080/"
        },
        "id": "qqqPE5PDd1A9",
        "outputId": "a207bb3e-07b8-4790-adea-f4d8ffc839a7"
      },
      "execution_count": 74,
      "outputs": [
        {
          "output_type": "stream",
          "name": "stdout",
          "text": [
            "<class 'pandas.core.frame.DataFrame'>\n",
            "Index: 41212 entries, 4 to 898928\n",
            "Data columns (total 27 columns):\n",
            " #   Column             Non-Null Count  Dtype  \n",
            "---  ------             --------------  -----  \n",
            " 0   LoanNr_ChkDgt      41212 non-null  int64  \n",
            " 1   Name               41212 non-null  object \n",
            " 2   City               41212 non-null  object \n",
            " 3   State              41212 non-null  object \n",
            " 4   Zip                41212 non-null  int64  \n",
            " 5   Bank               41159 non-null  object \n",
            " 6   BankState          41159 non-null  object \n",
            " 7   NAICS              41212 non-null  int64  \n",
            " 8   ApprovalDate       41212 non-null  object \n",
            " 9   ApprovalFY         41212 non-null  object \n",
            " 10  Term               41212 non-null  int64  \n",
            " 11  NoEmp              41212 non-null  int64  \n",
            " 12  NewExist           41207 non-null  float64\n",
            " 13  CreateJob          41212 non-null  int64  \n",
            " 14  RetainedJob        41212 non-null  int64  \n",
            " 15  FranchiseCode      41212 non-null  int64  \n",
            " 16  UrbanRural         41212 non-null  int64  \n",
            " 17  RevLineCr          41027 non-null  object \n",
            " 18  LowDoc             41078 non-null  object \n",
            " 19  ChgOffDate         11683 non-null  object \n",
            " 20  DisbursementDate   41060 non-null  object \n",
            " 21  DisbursementGross  41212 non-null  object \n",
            " 22  BalanceGross       41212 non-null  object \n",
            " 23  MIS_Status         41192 non-null  object \n",
            " 24  ChgOffPrinGr       41212 non-null  object \n",
            " 25  GrAppv             41212 non-null  object \n",
            " 26  SBA_Appv           41212 non-null  object \n",
            "dtypes: float64(1), int64(9), object(17)\n",
            "memory usage: 8.8+ MB\n"
          ]
        }
      ]
    },
    {
      "cell_type": "code",
      "source": [
        "df_filter.to_csv(\"sba_loans_filtered\",index=False)"
      ],
      "metadata": {
        "id": "GbJBCtnv67na"
      },
      "execution_count": 75,
      "outputs": []
    },
    {
      "cell_type": "code",
      "source": [
        "df_filter['Sector'] = df_filter['NAICS'].astype(str).str[:2]\n",
        "# df_filter['Sector'].value_counts()"
      ],
      "metadata": {
        "id": "0Q-VSWuN2LNz",
        "collapsed": true
      },
      "execution_count": 76,
      "outputs": []
    },
    {
      "cell_type": "code",
      "source": [
        "df_filter['Region'] = pd.cut(\n",
        "    df_filter['Zip'].astype(int),\n",
        "    bins=[32000, 32399, 32799, 33199, 35000],\n",
        "    labels=['North-Central Florida', 'Central Florida', 'Central-East Florida', 'South Florida']\n",
        ")"
      ],
      "metadata": {
        "id": "wIyW47-O6Bdf"
      },
      "execution_count": 77,
      "outputs": []
    },
    {
      "cell_type": "code",
      "source": [
        "df_filter['Region'].value_counts()"
      ],
      "metadata": {
        "colab": {
          "base_uri": "https://localhost:8080/",
          "height": 241
        },
        "id": "k66oz0twnFCc",
        "outputId": "cb827155-9f2e-4c7b-92c8-a8ff7e415751"
      },
      "execution_count": 78,
      "outputs": [
        {
          "output_type": "execute_result",
          "data": {
            "text/plain": [
              "Region\n",
              "South Florida            17823\n",
              "Central-East Florida     14290\n",
              "North-Central Florida     4654\n",
              "Central Florida           4377\n",
              "Name: count, dtype: int64"
            ],
            "text/html": [
              "<div>\n",
              "<style scoped>\n",
              "    .dataframe tbody tr th:only-of-type {\n",
              "        vertical-align: middle;\n",
              "    }\n",
              "\n",
              "    .dataframe tbody tr th {\n",
              "        vertical-align: top;\n",
              "    }\n",
              "\n",
              "    .dataframe thead th {\n",
              "        text-align: right;\n",
              "    }\n",
              "</style>\n",
              "<table border=\"1\" class=\"dataframe\">\n",
              "  <thead>\n",
              "    <tr style=\"text-align: right;\">\n",
              "      <th></th>\n",
              "      <th>count</th>\n",
              "    </tr>\n",
              "    <tr>\n",
              "      <th>Region</th>\n",
              "      <th></th>\n",
              "    </tr>\n",
              "  </thead>\n",
              "  <tbody>\n",
              "    <tr>\n",
              "      <th>South Florida</th>\n",
              "      <td>17823</td>\n",
              "    </tr>\n",
              "    <tr>\n",
              "      <th>Central-East Florida</th>\n",
              "      <td>14290</td>\n",
              "    </tr>\n",
              "    <tr>\n",
              "      <th>North-Central Florida</th>\n",
              "      <td>4654</td>\n",
              "    </tr>\n",
              "    <tr>\n",
              "      <th>Central Florida</th>\n",
              "      <td>4377</td>\n",
              "    </tr>\n",
              "  </tbody>\n",
              "</table>\n",
              "</div><br><label><b>dtype:</b> int64</label>"
            ]
          },
          "metadata": {},
          "execution_count": 78
        }
      ]
    },
    {
      "cell_type": "code",
      "source": [
        "df_filter.columns"
      ],
      "metadata": {
        "id": "1SxLWP5clpkd",
        "colab": {
          "base_uri": "https://localhost:8080/"
        },
        "outputId": "bee24958-1e33-48cf-e541-eba28a8dd973"
      },
      "execution_count": 79,
      "outputs": [
        {
          "output_type": "execute_result",
          "data": {
            "text/plain": [
              "Index(['LoanNr_ChkDgt', 'Name', 'City', 'State', 'Zip', 'Bank', 'BankState',\n",
              "       'NAICS', 'ApprovalDate', 'ApprovalFY', 'Term', 'NoEmp', 'NewExist',\n",
              "       'CreateJob', 'RetainedJob', 'FranchiseCode', 'UrbanRural', 'RevLineCr',\n",
              "       'LowDoc', 'ChgOffDate', 'DisbursementDate', 'DisbursementGross',\n",
              "       'BalanceGross', 'MIS_Status', 'ChgOffPrinGr', 'GrAppv', 'SBA_Appv',\n",
              "       'Sector', 'Region'],\n",
              "      dtype='object')"
            ]
          },
          "metadata": {},
          "execution_count": 79
        }
      ]
    },
    {
      "cell_type": "code",
      "source": [
        "df_filter['Is_Franchise'] = df_filter['FranchiseCode'].apply(lambda x: 0 if (x == '00001') or (x == '00000') else 1)"
      ],
      "metadata": {
        "id": "80VPeaYr71YY"
      },
      "execution_count": 80,
      "outputs": []
    },
    {
      "cell_type": "code",
      "source": [
        "df_drop = df_filter.drop(['Name','City','State','BankState','NAICS','Zip','LoanNr_ChkDgt','ChgOffDate','BalanceGross','ChgOffPrinGr','FranchiseCode'],axis=1)"
      ],
      "metadata": {
        "id": "tgCPjM6LeNlu"
      },
      "execution_count": 81,
      "outputs": []
    },
    {
      "cell_type": "code",
      "source": [
        "df_drop.columns"
      ],
      "metadata": {
        "colab": {
          "base_uri": "https://localhost:8080/"
        },
        "id": "LRLkfqd29r7L",
        "outputId": "7c37c6d2-46e5-48c7-9bf0-aa3fcd22a555"
      },
      "execution_count": 82,
      "outputs": [
        {
          "output_type": "execute_result",
          "data": {
            "text/plain": [
              "Index(['Bank', 'ApprovalDate', 'ApprovalFY', 'Term', 'NoEmp', 'NewExist',\n",
              "       'CreateJob', 'RetainedJob', 'UrbanRural', 'RevLineCr', 'LowDoc',\n",
              "       'DisbursementDate', 'DisbursementGross', 'MIS_Status', 'GrAppv',\n",
              "       'SBA_Appv', 'Sector', 'Region', 'Is_Franchise'],\n",
              "      dtype='object')"
            ]
          },
          "metadata": {},
          "execution_count": 82
        }
      ]
    },
    {
      "cell_type": "code",
      "source": [
        "print(df_drop['Bank'].unique().tolist())"
      ],
      "metadata": {
        "colab": {
          "base_uri": "https://localhost:8080/"
        },
        "id": "yBeq4kba-D8Y",
        "outputId": "7e1fd9da-9fba-4f2b-dccd-97927290def6"
      },
      "execution_count": 83,
      "outputs": [
        {
          "output_type": "stream",
          "name": "stdout",
          "text": [
            "['FLORIDA BUS. DEVEL CORP', 'REGIONS BANK', 'CENTENNIAL BANK', 'BANESCO USA', 'CITIBANK, N.A.', 'WELLS FARGO BANK NATL ASSOC', 'THE BANK OF TAMPA', 'PNC BANK, NATIONAL ASSOCIATION', 'SYNOVUS BANK', 'BANCO POPULAR NORTH AMERICA', 'READYCAP LENDING, LLC', 'CALIFORNIA BANK & TRUST', 'BANK OF AMERICA NATL ASSOC', 'SUNTRUST BANK', 'LOANS FROM OLD CLOSED LENDERS', 'JPMORGAN CHASE BANK NATL ASSOC', 'FLORIDA 1ST CAP. FINAN CORPORA', 'STEARNS BK NATL ASSOC', 'BBCN BANK', 'SOUTHERN COMM. BANK NATL ASSOC', 'BANKFIRST', 'NEWTEK SMALL BUS. FINANCE INC.', 'C1 BANK', 'BUSINESS DEVEL CORP OF N.E. FL', 'BUSINESS LOAN CENTER, LLC', 'GE CAP. SMALL BUS. FINAN CORP', 'TD BANK, NATIONAL ASSOCIATION', '1ST UNITED BANK', 'CAPITAL ONE NATL ASSOC', 'BRANCH BK. & TR CO', 'OLD FLORIDA BANK', 'AMER BUS. LENDING INC.', 'CENTERSTATE BK OF FLORIDA NATL', 'HARBOR COMMUNITY BANK', 'INDEPENDENT DEVEL SERVICES COR', 'EVERBANK', 'GULFCOAST BUS. FINANCE INC.', 'FIFTH THIRD BANK', 'CHARLOTTE STATE BANK & TRUST', 'TRUSTMARK NATIONAL BANK', 'CITIBANK INTERNATIONAL', 'AMERIFIRST BANK', 'AMERIS BANK', 'SMALL BUS. LOAN SOURCE LLC', 'BUSINESS LENDERS, LLC', 'ISRAEL DISCOUNT BK OF NEW YORK', 'BMO HARRIS BK NATL ASSOC', 'HELM BANK USA', 'TOTALBANK', 'BANKUNITED, FSB', 'BANKUNITED NATL ASSOC', 'FIRST FEDERAL BANK OF FLORIDA', 'ESSENTIAL CAP. FINANCE INC.', 'EASTERN NATIONAL BANK', 'UPS CAPITAL BUSINESS CREDIT', 'COMPASS BANK', 'MERCHANTS & SOUTHERN BANK', 'BAC FLORIDA BANK', 'ZIONS FIRST NATIONAL BANK', 'COMMUNITY SOUTH BANK', 'TAMPA BAY ECONOMIC DEVEL CORP', 'FIRST NATL BK N.W. FLORIDA', 'AMERICAN NATIONAL BANK', 'MERRILL LYNCH BANK USA', 'FIRST-CITIZENS BK & TR CO', 'THIRD FED. S & L ASSOC OF CLEV', 'TRANSAMERICA SMALL BUS. CAPITA', 'ALABAMA COMMUN DEVEL CORP', 'CAPITAL CITY BANK', nan, 'AURORA BANK FSB', 'IBERIABANK', 'WELLS FARGO INTERNATL BK. CORP', 'INNOVATIVE BANK', 'FDIC/OCEANMARK BANK', 'FARMERS & MERCHANTS BANK', 'OCEAN BANK', 'FDIC/RECEIVER- HAMILTON BANK N', 'FEDERAL DEPOSIT INSUR CORP', 'FIDELITY BK OF FLORIDA NATL AS', 'BUSEY BANK', 'BANK OF THE OZARKS', 'WACHOVIA SBA LENDING, INC.', 'HERITAGE BANK', 'AMER ENTER. BK OF FLORIDA', 'COMERICA BANK', 'FIRST WESTERN SBLC, INC', 'SOUTHEAST SDIC INC', 'SOUTHERN DEVELOPMENT COUNCIL', 'CONTINENTAL NATIONAL BANK', 'CITIZENS BANK NATL ASSOC', 'METRO BANK OF DADE COUNTY', 'CITIZENS BANK', 'HSBC BK USA NATL ASSOC', 'COLUMBIA BANK', 'STONEGATE BANK', 'FLORENCE SAVINGS BANK', 'BANCO POPULAR DE PUERTO RICO', 'FIRSTMERIT BANK, N.A.', 'SEACOAST NATIONAL BANK', 'NORTH CENT. FLORIDA AREAWIDE D', 'CAPITAL BANK NATL ASSOC', 'ONEUNITED BANK', 'FNBT.COM BANK', 'INTERCREDIT BANK, N.A.', 'WHITNEY BANK', 'FDIC/OCO 3901', 'CADENCE BANK NATL ASSOC', 'CBC NATIONAL BANK', 'NATIONAL CITY BANK', 'FIRST FINAN BANK NATL ASSOC', 'THE HUNTINGTON NATIONAL BANK', 'TELESIS COMMUNITY CU', 'TERRABANK NATL ASSOC', 'SABADELL UNITED BANK NATL ASSO', 'COCONUT GROVE BANK', 'PILOT BANK', 'INDEPENDENCE BANK', 'UMPQUA BANK', 'SUN AMERICAN BANK', 'FLORIDA COMMUN BANK NATL ASSOC', 'M&I, A BRANCH OF', 'COMMUNITY W. BANK NATL ASSOC', 'FIRST NIAGARA BANK NATL ASSOC', 'BANCO POPULAR NATL ASSOC', 'NORTHEAST BANK', 'HANCOCK BANK OF FLORIDA', 'FIRST TENNESSEE BANK NATL ASSO', 'BANK OF THE WEST', 'FIRST NATIONAL BANK OF PASCO', 'SURREY BANK & TRUST', 'CITY NATIONAL BANK OF FLORIDA', 'ENGLEWOOD BANK & TRUST', 'FLORIDA BUSINESS BANK', 'SMALL BUSINESS ADMINSITRATION', 'FULTON BANK NATL ASSOC', 'FIDELITY BANK', 'FIRSTBANK PUERTO RICO', 'CENTERBANK OF JACKSONVILLE N.A', 'SOUTHEAST NATIONAL BANK', 'THE JACKSONVILLE BANK', 'PACIFIC WESTERN BANK', 'AMERICA FIRST FCU', 'COLONIAL BANK NATL ASSOC', 'INTERNATIONAL FINANCE BANK', 'STATE BANK AND TRUST COMPANY', 'U.S. BANK NATIONAL ASSOCIATION', 'LEHMAN BROTHERS BANK, FSB', 'FIRST COAST COMMUNITY BANK', 'TAMPA BAY FCU', 'COHUTTA BK. COMPANY A DIVISION', 'CITICAPITAL SMALL BUS. FINANCE', 'FIRST BANK', 'FAIRWINDS CU', 'FIRST AMERICAN BANK', 'MOUNTAIN AMERICA FCU', 'TEXTRON BUSINESS CREDIT, INC.', 'FLORIDA CAP. BANK NATL ASSOC', 'FDIC OCO 3901', 'KEYBANK NATIONAL ASSOCIATION', 'FLAGLER BANK', 'BEACH COMMUNITY BANK', 'THE NORTHERN TRUST COMPANY', 'COMMUNITY NATIONAL BANK', 'LIBERTY BANK', 'WEST BANK', 'FIRST FLORIDA BANK', 'FLORIDA CITIZENS BANK', 'ESPIRITO SANTO BANK', 'FDIC/TUCKER STATE BANK', 'FDIC/BONHAM-DARTMOUTH', 'MERCANTIL COMMERCEBANK NATL AS', 'GROW AMERICA FUND INC', 'BERKSHIRE BANK', 'SUPERIOR FINANCIAL GROUP, LLC', 'FIRST BANK AND TRUST', 'COMMUNITY BANK OF FLORIDA', 'WILSHIRE BANK', 'NATIONAL LOAN INVESTORS, L.P.', 'BANK LEUMI USA', 'EAST WEST BANK', 'BEAL BANK, S.S.B.', 'UNITED BANK', 'AMRESCO SBA HOLDINGS, INC.', 'CAPITAL ONE BK (USA) NATL ASSO', 'BANCFIRST', 'WESTCONSIN CU', 'ORIENTAL BANK', 'MASCOMA SAVINGS BANK', 'UNITY BANK', 'MILLENNIUM BCPBANK, N.A.', 'MANUFACTURERS & TRADERS TR CO', 'ORLANDO NEIGHBORHOOD IMPROVEME', 'NCB, FSB', 'DESERET FIRST FCU', 'BEAL BANK, SSB', 'SOUTHEASTERN BANK', 'THOMASVILLE NATIONAL BANK', 'BANNER BANK', 'HAVEN TRUST BANK FLORIDA', 'CONTINENTAL BANK', 'FIRST SOUTHERN BANK', '1ST NATL BK OF SO. MIAMI', 'RIDGESTONE BANK', 'HOME LOAN INVEST BANK F.S.B.', 'FDIC-SKYLINE NATIONAL BANK', 'PIONEER COMMUNITY BANK, INC.', 'THE SOUTH FINANCIAL GROUP', 'WACHOVIA BANK NATL ASSOC', 'HOME SAVINGS & LOAN CO OF YOU', 'POPULAR COMMUN BANK A DIVISION', 'CELTIC BANK CORPORATION', 'HANCOCK BANK', 'WEBBANK', 'INVESTORS BANK', 'OAKLAND CNTY BUS. FINAN CORP', 'PEOPLES NATIONAL BANK', 'PINNACLE BANK', 'LOAN ACCEPTANCE CORPORATION', 'INSOUTH BANK', 'FIRST COMMUNITY BANK', 'LIVE OAK BANKING COMPANY', 'FIRST FARMERS BANK AND TRUST', 'FIFTH THIRD BANCORP', 'GREATER MOBILE DEVEL CORP', 'WILMINGTON TRUST COMPANY', 'BANC OF CALIFORNIA NATL ASSOC', 'REGENT BANK', 'LANGLEY CORP', 'DRUMMOND COMMUNITY BANK', 'DESJARDINS BANK NATL ASSOC', 'HIGH TRUST BANK', 'OMNI NATIONAL BANK', 'RANDOLPH-BROOKS FCU', 'FIRST NATL BK - NASSAU CNTY', 'PEOPLES NATL BANK NATL ASSOC', 'SUNSTATE BANK', 'CHARTERBANK', 'RESOLUTION TRUST CORPORATION', 'CALUSA BANK', 'MARINE BANK & TRUST COMPANY', 'GUARANTY BANK', 'BANK OF NEW HAMPSHIRE', 'RTC BAY SAVINGS BANK', 'MUTUAL OF OMAHA BANK', 'NAVY FCU', 'PEOPLESSOUTH BANK', 'NBT BANK, NATIONAL ASSOCIATION', 'LIBERTY BANK, FSB', 'ALARION BANK', 'EXECUTIVE NATIONAL BANK', 'BREMER BANK NATL ASSOC', 'NATIONSBANC MORTGAGE CORP', 'CERTUSBANK NATL ASSOC', 'CNLBANK', 'NORTHWEST SAVINGS BANK', 'SELF-HELP VENTURES FUND', 'HOMEBANC NATIONAL ASSOCIATION', 'COMMUNITY BANK OF BROWARD', 'HIGHLANDS INDEPENDENT BANK', 'FDIC/550', 'MCCOY FCU', 'CENTRAL BANK', 'UNITED CENTRAL BANK', 'ASSOCIATED BANK NATL ASSOC', 'BAY CITIES BANK', 'HAPPY STATE BANK', 'THE BANK OF COMMERCE', 'LIBERTY SAVINGS BANK, F.S.B.', 'FLORIDA BANK OF COMMERCE', 'SPIRIT OF TEXAS BANK, SSB', 'VISION ONE CU', 'EH NATIONAL BANK', 'ST. BK & TR CO', 'PATRIOT BANK', 'TUCSON FCU', 'TRANSATLANTIC BANK', 'GOVERNMENT DEVEL BK FOR PUERTO', 'WISCONSIN BANK & TRUST', 'FIRSTATLANTIC BANK', 'VECTRA BK COLORADO NATL ASSOC', 'INDUS AMERICAN BANK', 'SABAL PALM BANK', 'SUMMIT BANK NATL ASSOC', 'GULF COAST BK & TR CO', 'SUNCOAST CU', 'CORNHUSKER BANK', 'COMVEST EXPORT FINAN COMPANY I', 'LANDMARK BANK OF FLORIDA', 'NOA BANK', 'PROFESSIONAL BANK', 'MIDFLORIDA CU', 'GULFSHORE BANK', 'UMB BANK, NATIONAL ASSOCIATION', 'U.S. CENTURY BANK', 'BROOKLYN COOPERATIVE FCU', 'UNITED MIDWEST SAVINGS BANK', 'FIRST CHATHAM BANK', 'TEXTRON FINANCIAL CORP', 'FIRST INTERCONTINENTAL BANK', 'SILVERTON BRIDGE BANK NATL ASS', 'FIRST AMERICA BANK', 'SEASIDE NATIONAL BANK & TRUST', 'COMMUNITY BANK, COAST', 'SANTANDER BANK NATL ASSOC', 'THE OCULINA BANK', 'LOAN SOURCE INCORPORATED', 'SYNOVUS TR COMPANY NATL ASSOC', 'MAGNA BANK', 'BARCLAYS BANK PLC', 'FDIC/JEFFERSON NATIONAL BANK', 'ATLANTIC COAST BANK', 'WACHOVIA BANK, A DIVISION OF', 'COASTAL AREA DISTRICT DEVEL AU', 'NEW VENTURES CAP. DEVEL CO', 'MIDWESTONE BANK', 'FIRST NATL BK OF WAUCHULA', 'REPUBLIC BANK & TRUST COMPANY', 'THE BANCORP BANK', 'USAMERIBANK', 'FIRST ST. BK OF FLORIDA KEYS', 'FIRST COMM. BK - FLORIDA', 'FLORIDA CU', 'FLAGSHIP COMMUNITY BANK', 'BANCO DE LA PROVINCIA DE BUENO', 'SECURITY BANK NATL ASSOC', 'INSIGNIA BANK', 'EASTWOOD BANK', 'INTERAMERICAN BANK, FSB', 'NEWBANK', 'SEA ISLAND BANK, A DIVISION OF', 'PARADISE BANK', 'COMMERCIAL BANK, A DIVISION OF', 'PREMIER AMER BANK NATL ASSOC', 'COMMERCE BANK', 'WASHINGTONFIRST BANK', 'CITY BANK OF HARTFORD', 'ACHIEVA CU', 'COMMUNITY CAP. DEVEL CORP', 'FIRST HOME BANK', 'GEORGIA BANKING COMPANY', '1ST NATL BK OF MT DORA', 'COMMUNITY FIRST NATIONAL BANK', 'VST FINANCIAL SERVICES, INC', 'PREMIER BANK', 'LANDMARK BANK NATL ASSOC', 'EVOLVE BANK & TRUST', 'THE PARK NATIONAL BANK', 'REPUBLIC 1ST BK D/B/A REP. BK', 'COASTAL BK & TR - FLORIDA', 'SUNWEST BANK', 'THE BANK OF NORTHERN MICHIGAN', 'AMER EXPRESS CENTURION BK', 'PROSPERITY BANK', 'NATL CONSUMER COOPERATIVE BK', 'PEOPLES STATE BANK', 'SOUTHERN BANK OF TENNESSEE', 'CHOICE FINANCIAL GROUP', 'NBSC, A DIVISION OF', 'CAMPUS USA CU', 'VALLEY NATIONAL BANK', 'FLORIDIAN COMMUNITY BANK', 'CORNERSTONEBANK', 'BANK OF ALBUQUERQUE A DIVISION', 'BANK OF WESTERN MASSACHUSETTS', 'SPACE COAST CU', 'GTE FCU D/B/A GTE FINANCIAL', 'DOUGLAS NATIONAL BANK', 'BANKSOUTH', '1ST NATL BK OF SO. FLORIDA', 'HAWTHORN BANK', 'BUSINESS LOAN CENTER LLC (POST', 'BANK OF FRANKLIN', 'BANK OF NO. GEORGIA A DIVISION', 'BANK - AMERICA NATL ASSOC', 'PUTNAM STATE BANK', 'CDC SMALL BUS. FINAN CORP', 'COMMUNITY BANK OF SNYDER', 'WASHINGTON TR CO OF WESTERLY', 'FIRST NATIONAL BANK SOUTH', 'URBAN TRUST BANK', 'NORTHWEST SMALL BUS. FINAN COR', 'FIRST A NATL BK. ASSOC', 'THE LEGACY BANK, A DIVISION OF', 'AMERASIA BANK', 'HAVEN TRUST BANK', 'COUNTRY FCU', 'OCEAN BANK, A DIVISION OF', 'HEARTLAND BANK', 'MAIN STREET LENDER, LLC', 'MAINSTREET LENDER 7(A), LLC']\n"
          ]
        }
      ]
    },
    {
      "cell_type": "code",
      "source": [
        "def categorize_bank(name):\n",
        "    name = str(name).upper()\n",
        "    if re.search(r'\\bBANK\\b', name):\n",
        "        return \"Commercial Bank\"\n",
        "\n",
        "    elif re.search(r'\\b(CU|CREDIT UNION|CREDIT|SAVINGS|LOAN|MEMBERSHIP)\\b', name):\n",
        "        return \"Credit Union\"\n",
        "\n",
        "    elif re.search(r'\\b(INTERNATIONAL|GLOBAL|OVERSEAS|WORLD)\\b', name):\n",
        "        return \"International\"\n",
        "\n",
        "\n",
        "    elif re.search(r'\\b(CAPITAL|FINANCE|INVESTMENT|SECURITIES|CORPORATION|GROUP)\\b', name):\n",
        "        return \"Capital/Finance Institution\"\n",
        "\n",
        "\n",
        "    elif re.search(r'\\b(DEVELOPMENT|BUSINESS|SBA|SMALL BUSINESS|ENTERPRISE)\\b', name):\n",
        "        return \"Development Institution\"\n",
        "\n",
        "\n",
        "    else:\n",
        "        return \"Other\"\n",
        "\n",
        "\n",
        "df_drop['Category_bank'] = df_drop['Bank'].apply(categorize_bank)\n"
      ],
      "metadata": {
        "id": "FSfSlml7EOE0"
      },
      "execution_count": 84,
      "outputs": []
    },
    {
      "cell_type": "code",
      "source": [
        "df_drop['Category_bank'].value_counts()"
      ],
      "metadata": {
        "colab": {
          "base_uri": "https://localhost:8080/",
          "height": 304
        },
        "id": "EU3zqlh3H2-T",
        "outputId": "c01fc11d-e19e-4300-9bb6-d0334ebfce1f"
      },
      "execution_count": 85,
      "outputs": [
        {
          "output_type": "execute_result",
          "data": {
            "text/plain": [
              "Category_bank\n",
              "Commercial Bank                27507\n",
              "Other                           9903\n",
              "Capital/Finance Institution     2437\n",
              "Credit Union                     877\n",
              "Development Institution          470\n",
              "International                     18\n",
              "Name: count, dtype: int64"
            ],
            "text/html": [
              "<div>\n",
              "<style scoped>\n",
              "    .dataframe tbody tr th:only-of-type {\n",
              "        vertical-align: middle;\n",
              "    }\n",
              "\n",
              "    .dataframe tbody tr th {\n",
              "        vertical-align: top;\n",
              "    }\n",
              "\n",
              "    .dataframe thead th {\n",
              "        text-align: right;\n",
              "    }\n",
              "</style>\n",
              "<table border=\"1\" class=\"dataframe\">\n",
              "  <thead>\n",
              "    <tr style=\"text-align: right;\">\n",
              "      <th></th>\n",
              "      <th>count</th>\n",
              "    </tr>\n",
              "    <tr>\n",
              "      <th>Category_bank</th>\n",
              "      <th></th>\n",
              "    </tr>\n",
              "  </thead>\n",
              "  <tbody>\n",
              "    <tr>\n",
              "      <th>Commercial Bank</th>\n",
              "      <td>27507</td>\n",
              "    </tr>\n",
              "    <tr>\n",
              "      <th>Other</th>\n",
              "      <td>9903</td>\n",
              "    </tr>\n",
              "    <tr>\n",
              "      <th>Capital/Finance Institution</th>\n",
              "      <td>2437</td>\n",
              "    </tr>\n",
              "    <tr>\n",
              "      <th>Credit Union</th>\n",
              "      <td>877</td>\n",
              "    </tr>\n",
              "    <tr>\n",
              "      <th>Development Institution</th>\n",
              "      <td>470</td>\n",
              "    </tr>\n",
              "    <tr>\n",
              "      <th>International</th>\n",
              "      <td>18</td>\n",
              "    </tr>\n",
              "  </tbody>\n",
              "</table>\n",
              "</div><br><label><b>dtype:</b> int64</label>"
            ]
          },
          "metadata": {},
          "execution_count": 85
        }
      ]
    },
    {
      "cell_type": "code",
      "source": [
        "df_drop_bank = df_drop.drop(['Bank'],axis=1)"
      ],
      "metadata": {
        "id": "0ZCQw5_PHvV1"
      },
      "execution_count": 86,
      "outputs": []
    },
    {
      "cell_type": "code",
      "source": [
        "df_drop_bank.to_csv(\"sba_loans_flat\",index=False)"
      ],
      "metadata": {
        "id": "4oA3jImiaKU4"
      },
      "execution_count": 87,
      "outputs": []
    },
    {
      "cell_type": "code",
      "source": [],
      "metadata": {
        "id": "mq8Zd4_Nd_pQ"
      },
      "execution_count": 87,
      "outputs": []
    }
  ]
}